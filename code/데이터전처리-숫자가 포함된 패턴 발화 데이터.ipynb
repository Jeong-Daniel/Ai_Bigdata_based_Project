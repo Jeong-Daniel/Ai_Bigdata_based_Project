{
 "cells": [
  {
   "cell_type": "code",
   "execution_count": 8,
   "id": "d346563b",
   "metadata": {},
   "outputs": [],
   "source": [
    "import wave\n",
    "from glob import glob\n",
    "import os\n",
    "\n",
    "# The parameters are prerequisite information. More specifically,\n",
    "# channels, bit_depth, sampling_rate must be known to use this function.\n",
    "def pcm2wav( pcm_file, wav_file, channels=1, bit_depth=16, sampling_rate=16000 ):\n",
    "\n",
    "    # Check if the options are valid.\n",
    "    if bit_depth % 8 != 0:\n",
    "        raise ValueError(\"bit_depth \"+str(bit_depth)+\" must be a multiple of 8.\")\n",
    "        \n",
    "    # Read the .pcm file as a binary file and store the data to pcm_data\n",
    "    with open( pcm_file, 'rb') as opened_pcm_file:\n",
    "        pcm_data = opened_pcm_file.read();\n",
    "        \n",
    "        obj2write = wave.open( wav_file, 'wb')\n",
    "        obj2write.setnchannels( channels )\n",
    "        obj2write.setsampwidth( bit_depth // 8 )\n",
    "        obj2write.setframerate( sampling_rate )\n",
    "        obj2write.writeframes( pcm_data )\n",
    "        obj2write.close()\n",
    "        \n",
    "\n",
    "dir_list = glob('./159.숫자가 포함된 패턴 발화 데이터/01.데이터/*/*/01.사투리/*/*.pcm')\n",
    "# dir_list2 = dir_list.copy()\n",
    "# print(dir_list[48])\n",
    "\n",
    "for i,dir_path in enumerate(dir_list):\n",
    "    dir_list[i] = dir_path.strip('pcm')\n",
    "\n",
    "# dir_list.index('./159.숫자가 포함된 패턴 발화 데이터/01.데이터/2.Validation/원천데이터/01.사투리\\\\125104\\\\사투리_125104_여자_20대_충청_경상_클린_휴대폰마이크_61caaabf2ee5e090fa3fbbd')\n",
    "# print(dir_list[48])\n",
    "# print(dir_list2[0])"
   ]
  },
  {
   "cell_type": "code",
   "execution_count": 9,
   "id": "b0866418",
   "metadata": {},
   "outputs": [],
   "source": [
    "# print(f'{dir_list[0]}.pcm')\n",
    "for i in dir_list:\n",
    "    pcm2wav( f'{i}pcm', f'{i}wav', 1, 16, 16000 )"
   ]
  },
  {
   "cell_type": "code",
   "execution_count": 10,
   "id": "3f273baf",
   "metadata": {},
   "outputs": [
    {
     "data": {
      "text/plain": [
       "(788, 0)"
      ]
     },
     "execution_count": 10,
     "metadata": {},
     "output_type": "execute_result"
    }
   ],
   "source": [
    "list3 = glob('./159.숫자가 포함된 패턴 발화 데이터/01.데이터/*/*/01.사투리/*/*.wav')\n",
    "len(list3), len(dir_list)"
   ]
  },
  {
   "cell_type": "code",
   "execution_count": 11,
   "id": "ff562d6a",
   "metadata": {},
   "outputs": [],
   "source": [
    "pcm_path =  glob('./159.숫자가 포함된 패턴 발화 데이터/01.데이터/*/*/01.사투리/*/*.pcm')\n",
    "for i in pcm_path:\n",
    "    if os.path.exists(i):\n",
    "        os.remove(i)"
   ]
  },
  {
   "cell_type": "code",
   "execution_count": null,
   "id": "77771d1f",
   "metadata": {},
   "outputs": [],
   "source": []
  }
 ],
 "metadata": {
  "kernelspec": {
   "display_name": "Python 3 (ipykernel)",
   "language": "python",
   "name": "python3"
  },
  "language_info": {
   "codemirror_mode": {
    "name": "ipython",
    "version": 3
   },
   "file_extension": ".py",
   "mimetype": "text/x-python",
   "name": "python",
   "nbconvert_exporter": "python",
   "pygments_lexer": "ipython3",
   "version": "3.7.13"
  }
 },
 "nbformat": 4,
 "nbformat_minor": 5
}
