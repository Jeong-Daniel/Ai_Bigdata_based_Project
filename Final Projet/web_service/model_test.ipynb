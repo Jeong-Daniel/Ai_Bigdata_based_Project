{
 "cells": [
  {
   "cell_type": "markdown",
   "id": "3f9f18a0",
   "metadata": {},
   "source": [
    "### 라이브러리"
   ]
  },
  {
   "cell_type": "code",
   "execution_count": 1,
   "id": "fc33e17f",
   "metadata": {},
   "outputs": [],
   "source": [
    "import pandas as pd\n",
    "import numpy as np\n",
    "import os\n",
    "import shutil\n",
    "from glob import glob\n",
    "import librosa\n",
    "import warnings\n",
    "warnings.filterwarnings(\"ignore\")\n",
    "\n",
    "import json"
   ]
  },
  {
   "cell_type": "markdown",
   "id": "ea0b96e5",
   "metadata": {},
   "source": [
    "### 데이터 input / 전처리"
   ]
  },
  {
   "cell_type": "code",
   "execution_count": 2,
   "id": "f0b80fa7",
   "metadata": {},
   "outputs": [],
   "source": [
    "def load_data(paths):\n",
    "    result = []\n",
    "    for path in paths:\n",
    "        # sr = 16000이 의미는 1초당 16000개의 데이터를 샘플링\n",
    "        data, sr = librosa.load(path, sr = 16000)\n",
    "        result.append(data)\n",
    "    result = np.array(result) \n",
    "    # 메모리가 부족할 때는 데이터 타입을 변경 ex) np.array(data, dtype = np.float32)\n",
    "    return result"
   ]
  },
  {
   "cell_type": "code",
   "execution_count": 3,
   "id": "63929b47",
   "metadata": {},
   "outputs": [],
   "source": [
    "def get_feature(data, sr = 16000, n_fft = 256, win_length = 200, hop_length = 160, n_mels = 64):\n",
    "    mel = []\n",
    "    mel_ = librosa.feature.melspectrogram(data, sr = sr, n_fft = n_fft, win_length = win_length, hop_length = hop_length, n_mels = n_mels)\n",
    "    mel.append(mel_)\n",
    "    mel = np.array(mel)\n",
    "    mel = librosa.power_to_db(mel, ref = np.max)\n",
    "    return mel"
   ]
  },
  {
   "cell_type": "code",
   "execution_count": 4,
   "id": "910e0a19",
   "metadata": {},
   "outputs": [],
   "source": [
    "#음성들의 길이를 맞춰줌\n",
    "def set_length(data, d_mini):\n",
    "    result = []\n",
    "    for i in data:\n",
    "        result.append(i[:d_mini])\n",
    "    result = np.array(result)\n",
    "    return result"
   ]
  },
  {
   "cell_type": "code",
   "execution_count": 5,
   "id": "ea70aa4b",
   "metadata": {},
   "outputs": [],
   "source": [
    "voice_path = glob(\"./*.wav\")\n",
    "voice_path = load_data(voice_path)\n",
    "voice_path = np.array(voice_path)\n",
    "mini = 12320\n",
    "voice_path = set_length(voice_path, mini)\n",
    "result = get_feature(voice_path)"
   ]
  },
  {
   "cell_type": "code",
   "execution_count": 6,
   "id": "5fc55f6a",
   "metadata": {
    "scrolled": true
   },
   "outputs": [
    {
     "data": {
      "text/plain": [
       "(1, 64, 78, 1)"
      ]
     },
     "execution_count": 6,
     "metadata": {},
     "output_type": "execute_result"
    }
   ],
   "source": [
    "#result = result.reshape(result.shape[2], result.shape[1],  -1, 1)\n",
    "result = result.reshape(-1, 64, 78, 1)\n",
    "result.shape"
   ]
  },
  {
   "cell_type": "markdown",
   "id": "2c91185f",
   "metadata": {},
   "source": [
    "### 기존 모델 호출"
   ]
  },
  {
   "cell_type": "code",
   "execution_count": 7,
   "id": "49b9bfa6",
   "metadata": {},
   "outputs": [],
   "source": [
    "from keras.models import load_model\n",
    "model = load_model('voice.h5')"
   ]
  },
  {
   "cell_type": "code",
   "execution_count": 8,
   "id": "df795ab6",
   "metadata": {},
   "outputs": [
    {
     "name": "stdout",
     "output_type": "stream",
     "text": [
      "1/1 [==============================] - 5s 5s/step\n"
     ]
    },
    {
     "data": {
      "text/plain": [
       "array([[1., 0., 0., 0., 0., 0.]], dtype=float32)"
      ]
     },
     "execution_count": 8,
     "metadata": {},
     "output_type": "execute_result"
    }
   ],
   "source": [
    "model.predict(result)"
   ]
  },
  {
   "cell_type": "code",
   "execution_count": null,
   "id": "b7d38c11",
   "metadata": {},
   "outputs": [],
   "source": []
  }
 ],
 "metadata": {
  "kernelspec": {
   "display_name": "Python 3.8.13 ('wav2')",
   "language": "python",
   "name": "python3"
  },
  "language_info": {
   "codemirror_mode": {
    "name": "ipython",
    "version": 3
   },
   "file_extension": ".py",
   "mimetype": "text/x-python",
   "name": "python",
   "nbconvert_exporter": "python",
   "pygments_lexer": "ipython3",
   "version": "3.8.13"
  },
  "vscode": {
   "interpreter": {
    "hash": "066a7b0f6fb8ca3b8f14018590d7d125c61e3497857d79f36b02dfe59e9fbb12"
   }
  }
 },
 "nbformat": 4,
 "nbformat_minor": 5
}
