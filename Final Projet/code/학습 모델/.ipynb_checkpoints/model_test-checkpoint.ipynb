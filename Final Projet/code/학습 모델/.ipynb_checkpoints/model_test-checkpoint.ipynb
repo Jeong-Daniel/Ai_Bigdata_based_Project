{
 "cells": [
  {
   "cell_type": "markdown",
   "id": "3f9f18a0",
   "metadata": {},
   "source": [
    "### 라이브러리"
   ]
  },
  {
   "cell_type": "code",
   "execution_count": 1,
   "id": "fc33e17f",
   "metadata": {},
   "outputs": [],
   "source": [
    "import pandas as pd\n",
    "import numpy as np\n",
    "import os\n",
    "import shutil\n",
    "from tqdm import tqdm\n",
    "from glob import glob\n",
    "import librosa\n",
    "import warnings\n",
    "warnings.filterwarnings(\"ignore\")\n",
    "\n",
    "import json"
   ]
  },
  {
   "cell_type": "code",
   "execution_count": 2,
   "id": "c42227dc",
   "metadata": {},
   "outputs": [],
   "source": [
    "import tensorflow as tf\n",
    "from tensorflow import keras\n",
    "from tensorflow.keras.models import Model\n",
    "from tensorflow.keras.layers import (Input, Convolution2D, BatchNormalization, Flatten,\n",
    "                                     Dropout, Dense, AveragePooling2D, Add)\n",
    "from tensorflow.keras.callbacks import EarlyStopping\n",
    "from sklearn.model_selection import StratifiedKFold\n",
    "from sklearn.metrics import accuracy_score"
   ]
  },
  {
   "cell_type": "markdown",
   "id": "ea0b96e5",
   "metadata": {},
   "source": [
    "### 데이터 input / 전처리"
   ]
  },
  {
   "cell_type": "code",
   "execution_count": 3,
   "id": "f0b80fa7",
   "metadata": {},
   "outputs": [],
   "source": [
    "def load_data(paths):\n",
    "    result = []\n",
    "    for path in tqdm(paths):\n",
    "        # sr = 16000이 의미는 1초당 16000개의 데이터를 샘플링\n",
    "        data, sr = librosa.load(path, sr = 16000)\n",
    "        result.append(data)\n",
    "    result = np.array(result) \n",
    "    # 메모리가 부족할 때는 데이터 타입을 변경 ex) np.array(data, dtype = np.float32)\n",
    "    return result"
   ]
  },
  {
   "cell_type": "code",
   "execution_count": 4,
   "id": "63929b47",
   "metadata": {},
   "outputs": [],
   "source": [
    "def get_feature(data, sr = 16000, n_fft = 256, win_length = 200, hop_length = 160, n_mels = 64):\n",
    "    mel = []\n",
    "    mel_ = librosa.feature.melspectrogram(data, sr = sr, n_fft = n_fft, win_length = win_length, hop_length = hop_length, n_mels = n_mels)\n",
    "    mel.append(mel_)\n",
    "    mel = np.array(mel)\n",
    "    mel = librosa.power_to_db(mel, ref = np.max)\n",
    "    return mel"
   ]
  },
  {
   "cell_type": "code",
   "execution_count": 5,
   "id": "910e0a19",
   "metadata": {},
   "outputs": [],
   "source": [
    "#음성들의 길이를 맞춰줌\n",
    "def set_length(data, d_mini):\n",
    "    result = []\n",
    "    for i in data:\n",
    "        result.append(i[:d_mini])\n",
    "    result = np.array(result)\n",
    "    return result"
   ]
  },
  {
   "cell_type": "code",
   "execution_count": 6,
   "id": "ea70aa4b",
   "metadata": {},
   "outputs": [
    {
     "name": "stderr",
     "output_type": "stream",
     "text": [
      "100%|██████████| 1/1 [00:00<00:00, 62.67it/s]\n"
     ]
    }
   ],
   "source": [
    "voice_path = glob(\"./*.wav\")\n",
    "voice_path = load_data(voice_path)\n",
    "voice_path = np.array(voice_path)\n",
    "mini = 12320\n",
    "voice_path = set_length(voice_path, mini)\n",
    "result = get_feature(voice_path)"
   ]
  },
  {
   "cell_type": "code",
   "execution_count": 7,
   "id": "5fc55f6a",
   "metadata": {
    "scrolled": true
   },
   "outputs": [
    {
     "data": {
      "text/plain": [
       "(1, 64, 78, 1)"
      ]
     },
     "execution_count": 7,
     "metadata": {},
     "output_type": "execute_result"
    }
   ],
   "source": [
    "#result = result.reshape(result.shape[2], result.shape[1],  -1, 1)\n",
    "result = result.reshape(-1, 64, 78, 1)\n",
    "result.shape"
   ]
  },
  {
   "cell_type": "markdown",
   "id": "2c91185f",
   "metadata": {},
   "source": [
    "### 기존 모델 호출"
   ]
  },
  {
   "cell_type": "code",
   "execution_count": 8,
   "id": "a092eb85",
   "metadata": {},
   "outputs": [],
   "source": [
    "model = tf.keras.models.load_model('voice.h5')"
   ]
  },
  {
   "cell_type": "code",
   "execution_count": null,
   "id": "df795ab6",
   "metadata": {},
   "outputs": [],
   "source": [
    "model.predict(result)"
   ]
  }
 ],
 "metadata": {
  "kernelspec": {
   "display_name": "Python 3 (ipykernel)",
   "language": "python",
   "name": "python3"
  },
  "language_info": {
   "codemirror_mode": {
    "name": "ipython",
    "version": 3
   },
   "file_extension": ".py",
   "mimetype": "text/x-python",
   "name": "python",
   "nbconvert_exporter": "python",
   "pygments_lexer": "ipython3",
   "version": "3.8.13"
  }
 },
 "nbformat": 4,
 "nbformat_minor": 5
}
