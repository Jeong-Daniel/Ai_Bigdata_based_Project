{
 "cells": [
  {
   "cell_type": "code",
   "execution_count": 1,
   "id": "a56b107a",
   "metadata": {},
   "outputs": [
    {
     "data": {
      "text/plain": [
       "[PhysicalDevice(name='/physical_device:CPU:0', device_type='CPU')]"
      ]
     },
     "execution_count": 1,
     "metadata": {},
     "output_type": "execute_result"
    }
   ],
   "source": [
    "import tensorflow as tf\n",
    "tf.config.list_physical_devices()"
   ]
  },
  {
   "cell_type": "code",
   "execution_count": 2,
   "id": "3d09a382",
   "metadata": {},
   "outputs": [],
   "source": [
    "import pandas as pd\n",
    "import numpy as np\n",
    "import os\n",
    "import shutil\n",
    "from tqdm import tqdm\n",
    "from glob import glob\n",
    "import librosa\n",
    "import warnings\n",
    "warnings.filterwarnings(\"ignore\")\n",
    "\n",
    "import json"
   ]
  },
  {
   "cell_type": "markdown",
   "id": "ce028f47",
   "metadata": {},
   "source": [
    "### 데이터 불러오기"
   ]
  },
  {
   "cell_type": "code",
   "execution_count": 3,
   "id": "d39538a6",
   "metadata": {},
   "outputs": [],
   "source": [
    "voice_paths = glob(\"./data/원천데이터/train/*/*/*/*.wav\")\n",
    "labels_paths = glob(\"./data/라벨링데이터/train/*/*/*/*.json\")"
   ]
  },
  {
   "cell_type": "code",
   "execution_count": 4,
   "id": "d86385dd",
   "metadata": {},
   "outputs": [],
   "source": [
    "test_voice_paths = glob(\"./data/원천데이터/test/*/*/*/*.wav\")\n",
    "test_label_paths = glob(\"./data/라벨링데이터/test/*/*/*/*.json\")"
   ]
  },
  {
   "cell_type": "markdown",
   "id": "41b8c688",
   "metadata": {},
   "source": [
    "### 데이터 전처리\n",
    "librosa 라이브러리를 이용하여 wav파일을 전처리  \n",
    "https://librosa.org/doc/latest/index.html  \n",
    "librosa는 음악 및 오디오 분석용 파이썬 패키지\n",
    "\n",
    "https://librosa.org/doc/latest/generated/librosa.feature.melspectrogram.html#librosa.feature.melspectrogram"
   ]
  },
  {
   "cell_type": "code",
   "execution_count": 5,
   "id": "5b61ecdd",
   "metadata": {},
   "outputs": [],
   "source": [
    "def load_data(paths):\n",
    "    result = []\n",
    "    for path in tqdm(paths):\n",
    "        # sr = 16000이 의미는 1초당 16000개의 데이터를 샘플링\n",
    "        data, sr = librosa.load(path, sr = 16000)\n",
    "        result.append(data)\n",
    "    result = np.array(result) \n",
    "    # 메모리가 부족할 때는 데이터 타입을 변경 ex) np.array(data, dtype = np.float32)\n",
    "    return result"
   ]
  },
  {
   "cell_type": "code",
   "execution_count": 6,
   "id": "208fb0bc",
   "metadata": {},
   "outputs": [],
   "source": [
    "def labeling(paths):\n",
    "    result = []\n",
    "    for path in tqdm(paths):\n",
    "        # sr = 16000이 의미는 1초당 16000개의 데이터를 샘플링\n",
    "        with open(path,'r',encoding=\"UTF-8\") as f:\n",
    "            json_data = json.load(f)\n",
    "        if json_data['Speaker']['Region']=='00' and json_data['Speaker']['Dialect']=='01':\n",
    "            result.append(0)\n",
    "        elif json_data['Speaker']['Region']=='01' and json_data['Speaker']['Dialect']=='02':\n",
    "            result.append(1)\n",
    "        else:\n",
    "            result.append(2)\n",
    "    result = np.array(result) \n",
    "    # 메모리가 부족할 때는 데이터 타입을 변경 ex) np.array(data, dtype = np.float32)\n",
    "    return result"
   ]
  },
  {
   "cell_type": "markdown",
   "id": "c70ea6b0",
   "metadata": {},
   "source": [
    "훈련데이터에 대해서"
   ]
  },
  {
   "cell_type": "code",
   "execution_count": 7,
   "id": "2d80fc4c",
   "metadata": {
    "scrolled": false
   },
   "outputs": [
    {
     "name": "stderr",
     "output_type": "stream",
     "text": [
      "100%|██████████| 597523/597523 [28:44<00:00, 346.44it/s]\n"
     ]
    }
   ],
   "source": [
    "labels_paths = labeling(labels_paths)"
   ]
  },
  {
   "cell_type": "markdown",
   "id": "8cebafb3",
   "metadata": {},
   "source": [
    "데이터프레임으로 만들기"
   ]
  },
  {
   "cell_type": "code",
   "execution_count": 8,
   "id": "1472465f",
   "metadata": {},
   "outputs": [],
   "source": [
    "dataframe = pd.DataFrame(labels_paths, columns = ['type'])\n",
    "dataframe['file_path'] = voice_paths"
   ]
  },
  {
   "cell_type": "code",
   "execution_count": 9,
   "id": "5d0d966e",
   "metadata": {
    "scrolled": false
   },
   "outputs": [
    {
     "data": {
      "text/html": [
       "<div>\n",
       "<style scoped>\n",
       "    .dataframe tbody tr th:only-of-type {\n",
       "        vertical-align: middle;\n",
       "    }\n",
       "\n",
       "    .dataframe tbody tr th {\n",
       "        vertical-align: top;\n",
       "    }\n",
       "\n",
       "    .dataframe thead th {\n",
       "        text-align: right;\n",
       "    }\n",
       "</style>\n",
       "<table border=\"1\" class=\"dataframe\">\n",
       "  <thead>\n",
       "    <tr style=\"text-align: right;\">\n",
       "      <th></th>\n",
       "      <th>type</th>\n",
       "      <th>file_path</th>\n",
       "    </tr>\n",
       "  </thead>\n",
       "  <tbody>\n",
       "    <tr>\n",
       "      <th>0</th>\n",
       "      <td>2</td>\n",
       "      <td>./data/원천데이터/train\\call\\2021-12-10\\0001\\A0001-...</td>\n",
       "    </tr>\n",
       "    <tr>\n",
       "      <th>1</th>\n",
       "      <td>2</td>\n",
       "      <td>./data/원천데이터/train\\call\\2021-12-10\\0001\\A0001-...</td>\n",
       "    </tr>\n",
       "    <tr>\n",
       "      <th>2</th>\n",
       "      <td>2</td>\n",
       "      <td>./data/원천데이터/train\\call\\2021-12-10\\0001\\A0001-...</td>\n",
       "    </tr>\n",
       "    <tr>\n",
       "      <th>3</th>\n",
       "      <td>2</td>\n",
       "      <td>./data/원천데이터/train\\call\\2021-12-10\\0001\\A0001-...</td>\n",
       "    </tr>\n",
       "    <tr>\n",
       "      <th>4</th>\n",
       "      <td>2</td>\n",
       "      <td>./data/원천데이터/train\\call\\2021-12-10\\0001\\A0001-...</td>\n",
       "    </tr>\n",
       "    <tr>\n",
       "      <th>...</th>\n",
       "      <td>...</td>\n",
       "      <td>...</td>\n",
       "    </tr>\n",
       "    <tr>\n",
       "      <th>597518</th>\n",
       "      <td>2</td>\n",
       "      <td>./data/원천데이터/train\\continuous\\2022-01-10\\4079\\...</td>\n",
       "    </tr>\n",
       "    <tr>\n",
       "      <th>597519</th>\n",
       "      <td>2</td>\n",
       "      <td>./data/원천데이터/train\\continuous\\2022-01-10\\4079\\...</td>\n",
       "    </tr>\n",
       "    <tr>\n",
       "      <th>597520</th>\n",
       "      <td>2</td>\n",
       "      <td>./data/원천데이터/train\\continuous\\2022-01-10\\4079\\...</td>\n",
       "    </tr>\n",
       "    <tr>\n",
       "      <th>597521</th>\n",
       "      <td>2</td>\n",
       "      <td>./data/원천데이터/train\\continuous\\2022-01-10\\4079\\...</td>\n",
       "    </tr>\n",
       "    <tr>\n",
       "      <th>597522</th>\n",
       "      <td>2</td>\n",
       "      <td>./data/원천데이터/train\\continuous\\2022-01-10\\4079\\...</td>\n",
       "    </tr>\n",
       "  </tbody>\n",
       "</table>\n",
       "<p>597523 rows × 2 columns</p>\n",
       "</div>"
      ],
      "text/plain": [
       "        type                                          file_path\n",
       "0          2  ./data/원천데이터/train\\call\\2021-12-10\\0001\\A0001-...\n",
       "1          2  ./data/원천데이터/train\\call\\2021-12-10\\0001\\A0001-...\n",
       "2          2  ./data/원천데이터/train\\call\\2021-12-10\\0001\\A0001-...\n",
       "3          2  ./data/원천데이터/train\\call\\2021-12-10\\0001\\A0001-...\n",
       "4          2  ./data/원천데이터/train\\call\\2021-12-10\\0001\\A0001-...\n",
       "...      ...                                                ...\n",
       "597518     2  ./data/원천데이터/train\\continuous\\2022-01-10\\4079\\...\n",
       "597519     2  ./data/원천데이터/train\\continuous\\2022-01-10\\4079\\...\n",
       "597520     2  ./data/원천데이터/train\\continuous\\2022-01-10\\4079\\...\n",
       "597521     2  ./data/원천데이터/train\\continuous\\2022-01-10\\4079\\...\n",
       "597522     2  ./data/원천데이터/train\\continuous\\2022-01-10\\4079\\...\n",
       "\n",
       "[597523 rows x 2 columns]"
      ]
     },
     "execution_count": 9,
     "metadata": {},
     "output_type": "execute_result"
    }
   ],
   "source": [
    "dataframe"
   ]
  },
  {
   "cell_type": "code",
   "execution_count": 10,
   "id": "d22f9087",
   "metadata": {
    "scrolled": true
   },
   "outputs": [],
   "source": [
    "drop_index = dataframe[dataframe['type']==2].index\n",
    "dataframe = dataframe.drop(drop_index)\n",
    "train_y = np.array(dataframe['type'])"
   ]
  },
  {
   "cell_type": "code",
   "execution_count": 11,
   "id": "d1bc6b22",
   "metadata": {
    "scrolled": true
   },
   "outputs": [
    {
     "data": {
      "text/html": [
       "<div>\n",
       "<style scoped>\n",
       "    .dataframe tbody tr th:only-of-type {\n",
       "        vertical-align: middle;\n",
       "    }\n",
       "\n",
       "    .dataframe tbody tr th {\n",
       "        vertical-align: top;\n",
       "    }\n",
       "\n",
       "    .dataframe thead th {\n",
       "        text-align: right;\n",
       "    }\n",
       "</style>\n",
       "<table border=\"1\" class=\"dataframe\">\n",
       "  <thead>\n",
       "    <tr style=\"text-align: right;\">\n",
       "      <th></th>\n",
       "      <th>type</th>\n",
       "      <th>file_path</th>\n",
       "    </tr>\n",
       "  </thead>\n",
       "  <tbody>\n",
       "    <tr>\n",
       "      <th>16271</th>\n",
       "      <td>0</td>\n",
       "      <td>./data/원천데이터/train\\call\\2021-12-10\\1335\\A0001-...</td>\n",
       "    </tr>\n",
       "    <tr>\n",
       "      <th>16272</th>\n",
       "      <td>0</td>\n",
       "      <td>./data/원천데이터/train\\call\\2021-12-10\\1335\\A0001-...</td>\n",
       "    </tr>\n",
       "    <tr>\n",
       "      <th>16273</th>\n",
       "      <td>0</td>\n",
       "      <td>./data/원천데이터/train\\call\\2021-12-10\\1335\\A0001-...</td>\n",
       "    </tr>\n",
       "    <tr>\n",
       "      <th>16274</th>\n",
       "      <td>0</td>\n",
       "      <td>./data/원천데이터/train\\call\\2021-12-10\\1335\\A0001-...</td>\n",
       "    </tr>\n",
       "    <tr>\n",
       "      <th>16275</th>\n",
       "      <td>0</td>\n",
       "      <td>./data/원천데이터/train\\call\\2021-12-10\\1335\\A0001-...</td>\n",
       "    </tr>\n",
       "    <tr>\n",
       "      <th>...</th>\n",
       "      <td>...</td>\n",
       "      <td>...</td>\n",
       "    </tr>\n",
       "    <tr>\n",
       "      <th>596602</th>\n",
       "      <td>0</td>\n",
       "      <td>./data/원천데이터/train\\continuous\\2022-01-06\\4041\\...</td>\n",
       "    </tr>\n",
       "    <tr>\n",
       "      <th>596603</th>\n",
       "      <td>0</td>\n",
       "      <td>./data/원천데이터/train\\continuous\\2022-01-06\\4041\\...</td>\n",
       "    </tr>\n",
       "    <tr>\n",
       "      <th>596604</th>\n",
       "      <td>0</td>\n",
       "      <td>./data/원천데이터/train\\continuous\\2022-01-06\\4041\\...</td>\n",
       "    </tr>\n",
       "    <tr>\n",
       "      <th>596605</th>\n",
       "      <td>0</td>\n",
       "      <td>./data/원천데이터/train\\continuous\\2022-01-06\\4041\\...</td>\n",
       "    </tr>\n",
       "    <tr>\n",
       "      <th>596606</th>\n",
       "      <td>0</td>\n",
       "      <td>./data/원천데이터/train\\continuous\\2022-01-06\\4041\\...</td>\n",
       "    </tr>\n",
       "  </tbody>\n",
       "</table>\n",
       "<p>164413 rows × 2 columns</p>\n",
       "</div>"
      ],
      "text/plain": [
       "        type                                          file_path\n",
       "16271      0  ./data/원천데이터/train\\call\\2021-12-10\\1335\\A0001-...\n",
       "16272      0  ./data/원천데이터/train\\call\\2021-12-10\\1335\\A0001-...\n",
       "16273      0  ./data/원천데이터/train\\call\\2021-12-10\\1335\\A0001-...\n",
       "16274      0  ./data/원천데이터/train\\call\\2021-12-10\\1335\\A0001-...\n",
       "16275      0  ./data/원천데이터/train\\call\\2021-12-10\\1335\\A0001-...\n",
       "...      ...                                                ...\n",
       "596602     0  ./data/원천데이터/train\\continuous\\2022-01-06\\4041\\...\n",
       "596603     0  ./data/원천데이터/train\\continuous\\2022-01-06\\4041\\...\n",
       "596604     0  ./data/원천데이터/train\\continuous\\2022-01-06\\4041\\...\n",
       "596605     0  ./data/원천데이터/train\\continuous\\2022-01-06\\4041\\...\n",
       "596606     0  ./data/원천데이터/train\\continuous\\2022-01-06\\4041\\...\n",
       "\n",
       "[164413 rows x 2 columns]"
      ]
     },
     "execution_count": 11,
     "metadata": {},
     "output_type": "execute_result"
    }
   ],
   "source": [
    "dataframe"
   ]
  },
  {
   "cell_type": "code",
   "execution_count": 12,
   "id": "48bfde0c",
   "metadata": {
    "scrolled": false
   },
   "outputs": [
    {
     "name": "stderr",
     "output_type": "stream",
     "text": [
      "100%|██████████| 164413/164413 [29:19<00:00, 93.45it/s] \n"
     ]
    }
   ],
   "source": [
    "voice_paths = dataframe['file_path']\n",
    "voice_paths = load_data(voice_paths)"
   ]
  },
  {
   "cell_type": "markdown",
   "id": "5bf5f8a4",
   "metadata": {},
   "source": [
    "test 데이터에 대해서"
   ]
  },
  {
   "cell_type": "code",
   "execution_count": 13,
   "id": "1c974b16",
   "metadata": {},
   "outputs": [
    {
     "name": "stderr",
     "output_type": "stream",
     "text": [
      "100%|██████████| 136806/136806 [06:45<00:00, 337.24it/s]\n",
      "100%|██████████| 7869/7869 [01:33<00:00, 84.56it/s]\n"
     ]
    }
   ],
   "source": [
    "test_label_paths = labeling(test_label_paths)\n",
    "dataframe_t = pd.DataFrame(test_label_paths, columns = ['type'])\n",
    "dataframe_t['file_path'] = test_voice_paths\n",
    "\n",
    "drop_index = dataframe_t[dataframe_t['type']==2].index\n",
    "dataframe_t = dataframe_t.drop(drop_index)\n",
    "\n",
    "test_voice_paths = dataframe_t['file_path']\n",
    "test_voice_paths = load_data(test_voice_paths)"
   ]
  },
  {
   "cell_type": "code",
   "execution_count": 14,
   "id": "ce48d21e",
   "metadata": {},
   "outputs": [],
   "source": [
    "# 이번 대회에서 음성은 각각 다른 길이를 가짐\n",
    "# baseline 코드에서는 음성 중 길이가 가장 작은 길이의 데이터를 기준으로 데이터를 잘라서 사용\n",
    "def get_mini(data):\n",
    "    mini = 9999999\n",
    "    for i in data:\n",
    "        if len(i) < mini:\n",
    "            mini = len(i)\n",
    "    return mini\n",
    "\n",
    "#음성들의 길이를 맞춰줌\n",
    "def set_length(data, d_mini):\n",
    "    result = []\n",
    "    for i in data:\n",
    "        result.append(i[:d_mini])\n",
    "    result = np.array(result)\n",
    "    return result\n",
    "\n",
    "#feature를 생성합니다.\n",
    "def get_feature(data, sr = 16000, n_fft = 256, win_length = 200, hop_length = 160, n_mels = 64):\n",
    "    mel = []\n",
    "    for i in data:\n",
    "        # win_length 는 음성을 작은 조각으로 자를때 작은 조각의 크기\n",
    "        # hop_length 는 음성을 작은 조각으로 자를때 자르는 간격을 의미\n",
    "        # n_mels 는 적용할 mel filter의 개수\n",
    "        mel_ = librosa.feature.melspectrogram(i, sr = sr, n_fft = n_fft, win_length = win_length, hop_length = hop_length, n_mels = n_mels)\n",
    "        mel.append(mel_)\n",
    "    mel = np.array(mel)\n",
    "    mel = librosa.power_to_db(mel, ref = np.max)\n",
    "    mel_mean = mel.mean()\n",
    "    mel_std = mel.std()\n",
    "    mel = (mel - mel_mean) / mel_std\n",
    "    return mel"
   ]
  },
  {
   "cell_type": "code",
   "execution_count": 15,
   "id": "0af98ef6",
   "metadata": {},
   "outputs": [],
   "source": [
    "mini = get_mini(voice_paths)\n",
    "train_x = set_length(voice_paths, mini)\n",
    "train_x = get_feature(data = train_x)\n",
    "train_x = train_x.reshape(-1, train_x.shape[1], train_x.shape[2], 1)"
   ]
  },
  {
   "cell_type": "code",
   "execution_count": 16,
   "id": "ec392cfa",
   "metadata": {},
   "outputs": [],
   "source": [
    "# test데이터 만들기\n",
    "test_x = np.array(test_voice_paths)\n",
    "test_x = set_length(test_x, mini)\n",
    "test_x = get_feature(data = test_x)\n",
    "test_x = test_x.reshape(-1, test_x.shape[1], test_x.shape[2], 1)"
   ]
  },
  {
   "cell_type": "code",
   "execution_count": 17,
   "id": "dfbe7beb",
   "metadata": {
    "scrolled": true
   },
   "outputs": [
    {
     "name": "stdout",
     "output_type": "stream",
     "text": [
      "(164413, 64, 63, 1) (164413,) (7869, 64, 63, 1)\n"
     ]
    }
   ],
   "source": [
    "print(train_x.shape, train_y.shape, test_x.shape)"
   ]
  },
  {
   "cell_type": "markdown",
   "id": "67b883ae",
   "metadata": {},
   "source": [
    "### 분석모델"
   ]
  },
  {
   "cell_type": "code",
   "execution_count": 18,
   "id": "a82b7ece",
   "metadata": {},
   "outputs": [],
   "source": [
    "import tensorflow as tf\n",
    "from tensorflow import keras\n",
    "from tensorflow.keras.models import Model\n",
    "from tensorflow.keras.layers import (Input, Convolution2D, BatchNormalization, Flatten,\n",
    "                                     Dropout, Dense, AveragePooling2D, Add)\n",
    "from tensorflow.keras.callbacks import EarlyStopping\n",
    "\n",
    "from sklearn.model_selection import StratifiedKFold\n",
    "from sklearn.metrics import accuracy_score"
   ]
  },
  {
   "cell_type": "code",
   "execution_count": 19,
   "id": "55fb1aa5",
   "metadata": {},
   "outputs": [],
   "source": [
    "def block(input_, units = 32, dropout_rate = 0.5):\n",
    "    x = Convolution2D(units, 3, padding =\"same\", activation = \"relu\")(input_)\n",
    "    x = BatchNormalization()(x)\n",
    "    x_res = x\n",
    "    x = Convolution2D(units, 3, padding =\"same\", activation = \"relu\")(x)\n",
    "    x = BatchNormalization()(x)\n",
    "    x = Convolution2D(units, 3, padding =\"same\", activation = \"relu\")(x)\n",
    "    x = BatchNormalization()(x)\n",
    "    x = Add()([x, x_res])\n",
    "    x = AveragePooling2D()(x)\n",
    "    x = Dropout(rate=dropout_rate)(x)\n",
    "    return x\n",
    "\n",
    "def second_block(input_, units = 64, dropout_rate = 0.5):\n",
    "    x = Convolution2D(units, 1, padding =\"same\", activation = \"relu\")(input_)\n",
    "    x = Convolution2D(units, 3, padding =\"same\", activation = \"relu\")(x)\n",
    "    x = Convolution2D(units * 4, 1, padding =\"same\", activation = \"relu\")(x)\n",
    "    x = BatchNormalization()(x)\n",
    "    x_res = x\n",
    "    x = Convolution2D(units, 1, padding =\"same\", activation = \"relu\")(x)\n",
    "    x = Convolution2D(units, 3, padding =\"same\", activation = \"relu\")(x)\n",
    "    x = Convolution2D(units * 4, 1, padding =\"same\", activation = \"relu\")(x)\n",
    "    x = BatchNormalization()(x)\n",
    "    x = Convolution2D(units, 1, padding = \"same\", activation = \"relu\")(x)\n",
    "    x = Convolution2D(units, 3, padding =\"same\", activation = \"relu\")(x)\n",
    "    x = Convolution2D(units * 4, 1, padding = \"same\", activation = \"relu\")(x)\n",
    "    x = BatchNormalization()(x)\n",
    "    x = Add()([x, x_res])\n",
    "    x = AveragePooling2D()(x)\n",
    "    x = Dropout(rate=dropout_rate)(x)\n",
    "    return x"
   ]
  },
  {
   "cell_type": "code",
   "execution_count": 20,
   "id": "9fe5e6bc",
   "metadata": {},
   "outputs": [],
   "source": [
    "def build_fn():\n",
    "    dropout_rate = 0.3\n",
    "    \n",
    "    in_ = Input(shape = (train_x.shape[1:]))\n",
    "    \n",
    "    block_01 = block(in_, units = 32, dropout_rate = dropout_rate)\n",
    "    block_02 = block(block_01, units = 64, dropout_rate = dropout_rate)\n",
    "    block_03 = block(block_02, units = 128, dropout_rate = dropout_rate)\n",
    "\n",
    "    block_04 = second_block(block_03, units = 64, dropout_rate = dropout_rate)\n",
    "    block_05 = second_block(block_04, units = 128, dropout_rate = dropout_rate)\n",
    "\n",
    "    x = Flatten()(block_05)\n",
    "\n",
    "    x = Dense(units = 128, activation = \"relu\")(x)\n",
    "    x = BatchNormalization()(x)\n",
    "    x_res = x\n",
    "    x = Dropout(rate = dropout_rate)(x)\n",
    "\n",
    "    x = Dense(units = 128, activation = \"relu\")(x)\n",
    "    x = BatchNormalization()(x)\n",
    "    x = Add()([x_res, x])\n",
    "    x = Dropout(rate = dropout_rate)(x)\n",
    "\n",
    "    model_out = Dense(units = 6, activation = 'softmax')(x)\n",
    "    model = Model(in_, model_out)\n",
    "    return model"
   ]
  },
  {
   "cell_type": "markdown",
   "id": "ea3ff898",
   "metadata": {},
   "source": [
    "### 모델 학습"
   ]
  },
  {
   "cell_type": "code",
   "execution_count": null,
   "id": "34bf74c0",
   "metadata": {},
   "outputs": [
    {
     "name": "stdout",
     "output_type": "stream",
     "text": [
      "Epoch 1/8\n",
      "4111/4111 [==============================] - 3116s 758ms/step - loss: 0.0236 - acc: 0.9937 - val_loss: 8.7165e-06 - val_acc: 1.0000\n",
      "Epoch 2/8\n",
      "3713/4111 [==========================>...] - ETA: 4:47 - loss: 2.0730e-05 - acc: 1.0000"
     ]
    }
   ],
   "source": [
    "split = StratifiedKFold(n_splits = 5, shuffle = True, random_state = 10)\n",
    "\n",
    "pred = []\n",
    "pred_ = []\n",
    "\n",
    "for train_idx, val_idx in split.split(train_x, train_y):\n",
    "    x_train, y_train = train_x[train_idx], train_y[train_idx]\n",
    "    x_val, y_val = train_x[val_idx], train_y[val_idx]\n",
    "\n",
    "    model = build_fn()\n",
    "    model.compile(optimizer = keras.optimizers.Adam(0.002),\n",
    "                 loss = keras.losses.SparseCategoricalCrossentropy(),\n",
    "                 metrics = ['acc'])\n",
    "\n",
    "    history = model.fit(x = x_train, y = y_train, validation_data = (x_val, y_val), epochs = 8)\n",
    "    print(\"*******************************************************************\")\n",
    "    pred.append(model.predict(test_x))\n",
    "    pred_.append(np.argmax(model.predict(test_x), axis = 1))\n",
    "    print(\"*******************************************************************\")"
   ]
  },
  {
   "cell_type": "markdown",
   "id": "0d886a8a",
   "metadata": {},
   "source": [
    "### 예측하기"
   ]
  },
  {
   "cell_type": "code",
   "execution_count": 16,
   "id": "8953a183",
   "metadata": {},
   "outputs": [],
   "source": [
    "def cov_type(data):\n",
    "    return np.int(data)\n",
    "\n",
    "# 처음에 살펴본 것처럼 glob로 test data의 path는 sample_submission의 id와 같이 1,2,3,4,5.....으로 정렬 되어있지 않음\n",
    "# 만들어둔 test_ 데이터프레임을 이용하여 sample_submission과 predict값의 id를 맞춰줌\n",
    "\n",
    "result = pd.concat([test_, pd.DataFrame(np.mean(pred, axis = 0))], axis = 1).iloc[:, 1:]\n",
    "result[\"id\"] = result[\"id\"].apply(lambda x : cov_type(x))\n",
    "\n",
    "result = pd.merge(sample_submission[\"id\"], result)\n",
    "result.columns = sample_submission.columns"
   ]
  },
  {
   "cell_type": "code",
   "execution_count": 17,
   "id": "7626853c",
   "metadata": {},
   "outputs": [
    {
     "data": {
      "text/html": [
       "<div>\n",
       "<style scoped>\n",
       "    .dataframe tbody tr th:only-of-type {\n",
       "        vertical-align: middle;\n",
       "    }\n",
       "\n",
       "    .dataframe tbody tr th {\n",
       "        vertical-align: top;\n",
       "    }\n",
       "\n",
       "    .dataframe thead th {\n",
       "        text-align: right;\n",
       "    }\n",
       "</style>\n",
       "<table border=\"1\" class=\"dataframe\">\n",
       "  <thead>\n",
       "    <tr style=\"text-align: right;\">\n",
       "      <th></th>\n",
       "      <th>id</th>\n",
       "      <th>africa</th>\n",
       "      <th>australia</th>\n",
       "      <th>canada</th>\n",
       "      <th>england</th>\n",
       "      <th>hongkong</th>\n",
       "      <th>us</th>\n",
       "    </tr>\n",
       "  </thead>\n",
       "  <tbody>\n",
       "    <tr>\n",
       "      <th>0</th>\n",
       "      <td>1</td>\n",
       "      <td>0.037994</td>\n",
       "      <td>0.006710</td>\n",
       "      <td>0.023825</td>\n",
       "      <td>0.290019</td>\n",
       "      <td>0.020778</td>\n",
       "      <td>0.620673</td>\n",
       "    </tr>\n",
       "    <tr>\n",
       "      <th>1</th>\n",
       "      <td>2</td>\n",
       "      <td>0.188218</td>\n",
       "      <td>0.014532</td>\n",
       "      <td>0.022077</td>\n",
       "      <td>0.535970</td>\n",
       "      <td>0.004920</td>\n",
       "      <td>0.234284</td>\n",
       "    </tr>\n",
       "    <tr>\n",
       "      <th>2</th>\n",
       "      <td>3</td>\n",
       "      <td>0.157294</td>\n",
       "      <td>0.026830</td>\n",
       "      <td>0.016824</td>\n",
       "      <td>0.574049</td>\n",
       "      <td>0.026685</td>\n",
       "      <td>0.198318</td>\n",
       "    </tr>\n",
       "    <tr>\n",
       "      <th>3</th>\n",
       "      <td>4</td>\n",
       "      <td>0.194869</td>\n",
       "      <td>0.067176</td>\n",
       "      <td>0.038670</td>\n",
       "      <td>0.554759</td>\n",
       "      <td>0.055354</td>\n",
       "      <td>0.089171</td>\n",
       "    </tr>\n",
       "    <tr>\n",
       "      <th>4</th>\n",
       "      <td>5</td>\n",
       "      <td>0.207199</td>\n",
       "      <td>0.026973</td>\n",
       "      <td>0.008716</td>\n",
       "      <td>0.332835</td>\n",
       "      <td>0.022489</td>\n",
       "      <td>0.401787</td>\n",
       "    </tr>\n",
       "    <tr>\n",
       "      <th>...</th>\n",
       "      <td>...</td>\n",
       "      <td>...</td>\n",
       "      <td>...</td>\n",
       "      <td>...</td>\n",
       "      <td>...</td>\n",
       "      <td>...</td>\n",
       "      <td>...</td>\n",
       "    </tr>\n",
       "    <tr>\n",
       "      <th>6095</th>\n",
       "      <td>6096</td>\n",
       "      <td>0.063617</td>\n",
       "      <td>0.053831</td>\n",
       "      <td>0.016850</td>\n",
       "      <td>0.282672</td>\n",
       "      <td>0.241308</td>\n",
       "      <td>0.341721</td>\n",
       "    </tr>\n",
       "    <tr>\n",
       "      <th>6096</th>\n",
       "      <td>6097</td>\n",
       "      <td>0.009056</td>\n",
       "      <td>0.009781</td>\n",
       "      <td>0.004995</td>\n",
       "      <td>0.324703</td>\n",
       "      <td>0.003501</td>\n",
       "      <td>0.647963</td>\n",
       "    </tr>\n",
       "    <tr>\n",
       "      <th>6097</th>\n",
       "      <td>6098</td>\n",
       "      <td>0.174698</td>\n",
       "      <td>0.019762</td>\n",
       "      <td>0.012561</td>\n",
       "      <td>0.624443</td>\n",
       "      <td>0.063158</td>\n",
       "      <td>0.105378</td>\n",
       "    </tr>\n",
       "    <tr>\n",
       "      <th>6098</th>\n",
       "      <td>6099</td>\n",
       "      <td>0.180881</td>\n",
       "      <td>0.010444</td>\n",
       "      <td>0.015629</td>\n",
       "      <td>0.359167</td>\n",
       "      <td>0.007196</td>\n",
       "      <td>0.426683</td>\n",
       "    </tr>\n",
       "    <tr>\n",
       "      <th>6099</th>\n",
       "      <td>6100</td>\n",
       "      <td>0.062526</td>\n",
       "      <td>0.025399</td>\n",
       "      <td>0.010920</td>\n",
       "      <td>0.613567</td>\n",
       "      <td>0.029109</td>\n",
       "      <td>0.258479</td>\n",
       "    </tr>\n",
       "  </tbody>\n",
       "</table>\n",
       "<p>6100 rows × 7 columns</p>\n",
       "</div>"
      ],
      "text/plain": [
       "        id    africa  australia    canada   england  hongkong        us\n",
       "0        1  0.037994   0.006710  0.023825  0.290019  0.020778  0.620673\n",
       "1        2  0.188218   0.014532  0.022077  0.535970  0.004920  0.234284\n",
       "2        3  0.157294   0.026830  0.016824  0.574049  0.026685  0.198318\n",
       "3        4  0.194869   0.067176  0.038670  0.554759  0.055354  0.089171\n",
       "4        5  0.207199   0.026973  0.008716  0.332835  0.022489  0.401787\n",
       "...    ...       ...        ...       ...       ...       ...       ...\n",
       "6095  6096  0.063617   0.053831  0.016850  0.282672  0.241308  0.341721\n",
       "6096  6097  0.009056   0.009781  0.004995  0.324703  0.003501  0.647963\n",
       "6097  6098  0.174698   0.019762  0.012561  0.624443  0.063158  0.105378\n",
       "6098  6099  0.180881   0.010444  0.015629  0.359167  0.007196  0.426683\n",
       "6099  6100  0.062526   0.025399  0.010920  0.613567  0.029109  0.258479\n",
       "\n",
       "[6100 rows x 7 columns]"
      ]
     },
     "execution_count": 17,
     "metadata": {},
     "output_type": "execute_result"
    }
   ],
   "source": [
    "result"
   ]
  }
 ],
 "metadata": {
  "kernelspec": {
   "display_name": "Python 3 (ipykernel)",
   "language": "python",
   "name": "python3"
  },
  "language_info": {
   "codemirror_mode": {
    "name": "ipython",
    "version": 3
   },
   "file_extension": ".py",
   "mimetype": "text/x-python",
   "name": "python",
   "nbconvert_exporter": "python",
   "pygments_lexer": "ipython3",
   "version": "3.7.13"
  }
 },
 "nbformat": 4,
 "nbformat_minor": 5
}
