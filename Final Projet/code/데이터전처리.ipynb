{
 "cells": [
  {
   "cell_type": "code",
   "execution_count": 9,
   "id": "d7b494f8",
   "metadata": {},
   "outputs": [
    {
     "name": "stdout",
     "output_type": "stream",
     "text": [
      "['2021-12-10', '2021-12-14', '2021-12-15', '2021-12-16']\n"
     ]
    },
    {
     "ename": "AttributeError",
     "evalue": "'list' object has no attribute 'concat'",
     "output_type": "error",
     "traceback": [
      "\u001b[1;31m---------------------------------------------------------------------------\u001b[0m",
      "\u001b[1;31mAttributeError\u001b[0m                            Traceback (most recent call last)",
      "\u001b[1;32m~\\AppData\\Local\\Temp\\ipykernel_6612\\2448685447.py\u001b[0m in \u001b[0;36m<module>\u001b[1;34m\u001b[0m\n\u001b[0;32m      7\u001b[0m \u001b[0mjson_list1\u001b[0m \u001b[1;33m=\u001b[0m \u001b[1;33m[\u001b[0m\u001b[1;33m]\u001b[0m\u001b[1;33m\u001b[0m\u001b[1;33m\u001b[0m\u001b[0m\n\u001b[0;32m      8\u001b[0m \u001b[1;32mfor\u001b[0m \u001b[0mi\u001b[0m \u001b[1;32min\u001b[0m \u001b[0mjson_list\u001b[0m\u001b[1;33m:\u001b[0m\u001b[1;33m\u001b[0m\u001b[1;33m\u001b[0m\u001b[0m\n\u001b[1;32m----> 9\u001b[1;33m     \u001b[0mjson_list1\u001b[0m\u001b[1;33m.\u001b[0m\u001b[0mconcat\u001b[0m\u001b[1;33m(\u001b[0m\u001b[0mos\u001b[0m\u001b[1;33m.\u001b[0m\u001b[0mlistdir\u001b[0m\u001b[1;33m(\u001b[0m\u001b[1;34m\"./003.화자 인식용 음성 데이터/01.데이터/1.Training/라벨링데이터/continuous/\"\u001b[0m \u001b[1;33m+\u001b[0m \u001b[0mi\u001b[0m\u001b[1;33m)\u001b[0m\u001b[1;33m)\u001b[0m\u001b[1;33m\u001b[0m\u001b[1;33m\u001b[0m\u001b[0m\n\u001b[0m\u001b[0;32m     10\u001b[0m \u001b[1;33m\u001b[0m\u001b[0m\n\u001b[0;32m     11\u001b[0m \u001b[1;31m# for i in json_list1:\u001b[0m\u001b[1;33m\u001b[0m\u001b[1;33m\u001b[0m\u001b[1;33m\u001b[0m\u001b[0m\n",
      "\u001b[1;31mAttributeError\u001b[0m: 'list' object has no attribute 'concat'"
     ]
    }
   ],
   "source": [
    "import os\n",
    "\n",
    "\n",
    "json_path1 = \"./003.화자 인식용 음성 데이터/01.데이터/1.Training/라벨링데이터/continuous\" \n",
    "json_list = os.listdir(json_path1)\n",
    "print(json_list)\n",
    "json_list1 = []\n",
    "for i in json_list:\n",
    "    listdir = os.listdir(\"./003.화자 인식용 음성 데이터/01.데이터/1.Training/라벨링데이터/continuous/\" + i))\n",
    "    json_list\n",
    "# for i in json_list1:\n",
    "#     json_list2 = os.listdir(i)\n",
    "print(json_list1)\n",
    "    \n",
    "\n",
    "# path2 = \"./003.화자 인식용 음성 데이터/01.데이터/1.Training/원천데이터/continuous/2021-12-10\"\n",
    "# wav_list = os.listdir(path2)\n",
    "\n",
    "# for i in wav_list:\n",
    "#     wav_list1 = os.listdir(\"./003.화자 인식용 음성 데이터/01.데이터/1.Training/원천데이터/continuous/2021-12-10/\" + i)\n",
    "\n",
    "\n",
    "\n",
    "# print (\"json_list: {}\".format(json_list1))\n",
    "# print (\"wav_list: {}\".format(wav_list1))"
   ]
  },
  {
   "cell_type": "code",
   "execution_count": 2,
   "id": "51c5b20f",
   "metadata": {},
   "outputs": [
    {
     "ename": "SyntaxError",
     "evalue": "unexpected character after line continuation character (2392220359.py, line 1)",
     "output_type": "error",
     "traceback": [
      "\u001b[1;36m  File \u001b[1;32m\"C:\\Users\\user\\AppData\\Local\\Temp\\ipykernel_6612\\2392220359.py\"\u001b[1;36m, line \u001b[1;32m1\u001b[0m\n\u001b[1;33m    C:\\Users\\user\\Desktop\\방언발화데이터\\003.화자 인식용 음성 데이터\\01.데이터\\1.Training\\원천데이터\\continuous\\2021-12-20\u001b[0m\n\u001b[1;37m                                                                                                 ^\u001b[0m\n\u001b[1;31mSyntaxError\u001b[0m\u001b[1;31m:\u001b[0m unexpected character after line continuation character\n"
     ]
    }
   ],
   "source": [
    "C:\\Users\\user\\Desktop\\방언발화데이터\\003.화자 인식용 음성 데이터\\01.데이터\\1.Training\\원천데이터\\continuous\\2021-12-20"
   ]
  },
  {
   "cell_type": "code",
   "execution_count": null,
   "id": "f7088175",
   "metadata": {},
   "outputs": [],
   "source": [
    "import pandas as pd\n",
    "\n",
    "json_df = pd.DataFrame(json_list)\n",
    "json_df.columns = ['json파일명']\n",
    "json_df"
   ]
  },
  {
   "cell_type": "code",
   "execution_count": null,
   "id": "d079395f",
   "metadata": {},
   "outputs": [],
   "source": [
    "# json_df['json파일명'].str.split('.')[0][0]\n",
    "# json_df['파일명'] = json_df.apply(lambda x: x.str.split('.'))\n",
    "# json_df['파일명'] =json_df['json파일명'].apply(lambda x: x.str.split('.')[0], axis=1)\n",
    "json_df['파일명'] = json_df['json파일명'].str.split('.').str[0]"
   ]
  },
  {
   "cell_type": "code",
   "execution_count": null,
   "id": "eb06d316",
   "metadata": {},
   "outputs": [],
   "source": [
    "json_df.index = json_df['파일명']"
   ]
  },
  {
   "cell_type": "code",
   "execution_count": null,
   "id": "45ff63ca",
   "metadata": {},
   "outputs": [],
   "source": [
    "json_df1 = json_df.copy()\n",
    "json_df1"
   ]
  },
  {
   "cell_type": "code",
   "execution_count": null,
   "id": "d0e548f7",
   "metadata": {},
   "outputs": [],
   "source": []
  }
 ],
 "metadata": {
  "kernelspec": {
   "display_name": "Python 3 (ipykernel)",
   "language": "python",
   "name": "python3"
  },
  "language_info": {
   "codemirror_mode": {
    "name": "ipython",
    "version": 3
   },
   "file_extension": ".py",
   "mimetype": "text/x-python",
   "name": "python",
   "nbconvert_exporter": "python",
   "pygments_lexer": "ipython3",
   "version": "3.7.13"
  }
 },
 "nbformat": 4,
 "nbformat_minor": 5
}
